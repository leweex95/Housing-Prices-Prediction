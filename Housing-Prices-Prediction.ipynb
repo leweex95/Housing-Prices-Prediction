{
 "cells": [
  {
   "cell_type": "markdown",
   "id": "4cf9121f",
   "metadata": {},
   "source": [
    "## Preparations"
   ]
  },
  {
   "cell_type": "code",
   "execution_count": 196,
   "id": "bf6f9cba",
   "metadata": {},
   "outputs": [],
   "source": [
    "import pandas as pd\n",
    "from pathlib import Path\n",
    "import matplotlib.pyplot as plt "
   ]
  },
  {
   "cell_type": "code",
   "execution_count": 197,
   "id": "30a5e096",
   "metadata": {},
   "outputs": [
    {
     "data": {
      "text/plain": [
       "((1460, 81), (1459, 80))"
      ]
     },
     "execution_count": 197,
     "metadata": {},
     "output_type": "execute_result"
    }
   ],
   "source": [
    "df_train = pd.read_csv(Path(\"./data/train.csv\"))\n",
    "df_test  = pd.read_csv(Path(\"./data/test.csv\"))\n",
    "df_train.shape, df_test.shape"
   ]
  },
  {
   "cell_type": "code",
   "execution_count": 198,
   "id": "b67720c1",
   "metadata": {},
   "outputs": [
    {
     "data": {
      "text/html": [
       "<div>\n",
       "<style scoped>\n",
       "    .dataframe tbody tr th:only-of-type {\n",
       "        vertical-align: middle;\n",
       "    }\n",
       "\n",
       "    .dataframe tbody tr th {\n",
       "        vertical-align: top;\n",
       "    }\n",
       "\n",
       "    .dataframe thead th {\n",
       "        text-align: right;\n",
       "    }\n",
       "</style>\n",
       "<table border=\"1\" class=\"dataframe\">\n",
       "  <thead>\n",
       "    <tr style=\"text-align: right;\">\n",
       "      <th></th>\n",
       "      <th>Id</th>\n",
       "      <th>MSSubClass</th>\n",
       "      <th>MSZoning</th>\n",
       "      <th>LotFrontage</th>\n",
       "      <th>LotArea</th>\n",
       "      <th>Street</th>\n",
       "      <th>Alley</th>\n",
       "      <th>LotShape</th>\n",
       "      <th>LandContour</th>\n",
       "      <th>Utilities</th>\n",
       "      <th>...</th>\n",
       "      <th>PoolArea</th>\n",
       "      <th>PoolQC</th>\n",
       "      <th>Fence</th>\n",
       "      <th>MiscFeature</th>\n",
       "      <th>MiscVal</th>\n",
       "      <th>MoSold</th>\n",
       "      <th>YrSold</th>\n",
       "      <th>SaleType</th>\n",
       "      <th>SaleCondition</th>\n",
       "      <th>SalePrice</th>\n",
       "    </tr>\n",
       "  </thead>\n",
       "  <tbody>\n",
       "    <tr>\n",
       "      <th>0</th>\n",
       "      <td>1</td>\n",
       "      <td>60</td>\n",
       "      <td>RL</td>\n",
       "      <td>65.0</td>\n",
       "      <td>8450</td>\n",
       "      <td>Pave</td>\n",
       "      <td>NaN</td>\n",
       "      <td>Reg</td>\n",
       "      <td>Lvl</td>\n",
       "      <td>AllPub</td>\n",
       "      <td>...</td>\n",
       "      <td>0</td>\n",
       "      <td>NaN</td>\n",
       "      <td>NaN</td>\n",
       "      <td>NaN</td>\n",
       "      <td>0</td>\n",
       "      <td>2</td>\n",
       "      <td>2008</td>\n",
       "      <td>WD</td>\n",
       "      <td>Normal</td>\n",
       "      <td>208500</td>\n",
       "    </tr>\n",
       "    <tr>\n",
       "      <th>1</th>\n",
       "      <td>2</td>\n",
       "      <td>20</td>\n",
       "      <td>RL</td>\n",
       "      <td>80.0</td>\n",
       "      <td>9600</td>\n",
       "      <td>Pave</td>\n",
       "      <td>NaN</td>\n",
       "      <td>Reg</td>\n",
       "      <td>Lvl</td>\n",
       "      <td>AllPub</td>\n",
       "      <td>...</td>\n",
       "      <td>0</td>\n",
       "      <td>NaN</td>\n",
       "      <td>NaN</td>\n",
       "      <td>NaN</td>\n",
       "      <td>0</td>\n",
       "      <td>5</td>\n",
       "      <td>2007</td>\n",
       "      <td>WD</td>\n",
       "      <td>Normal</td>\n",
       "      <td>181500</td>\n",
       "    </tr>\n",
       "    <tr>\n",
       "      <th>2</th>\n",
       "      <td>3</td>\n",
       "      <td>60</td>\n",
       "      <td>RL</td>\n",
       "      <td>68.0</td>\n",
       "      <td>11250</td>\n",
       "      <td>Pave</td>\n",
       "      <td>NaN</td>\n",
       "      <td>IR1</td>\n",
       "      <td>Lvl</td>\n",
       "      <td>AllPub</td>\n",
       "      <td>...</td>\n",
       "      <td>0</td>\n",
       "      <td>NaN</td>\n",
       "      <td>NaN</td>\n",
       "      <td>NaN</td>\n",
       "      <td>0</td>\n",
       "      <td>9</td>\n",
       "      <td>2008</td>\n",
       "      <td>WD</td>\n",
       "      <td>Normal</td>\n",
       "      <td>223500</td>\n",
       "    </tr>\n",
       "    <tr>\n",
       "      <th>3</th>\n",
       "      <td>4</td>\n",
       "      <td>70</td>\n",
       "      <td>RL</td>\n",
       "      <td>60.0</td>\n",
       "      <td>9550</td>\n",
       "      <td>Pave</td>\n",
       "      <td>NaN</td>\n",
       "      <td>IR1</td>\n",
       "      <td>Lvl</td>\n",
       "      <td>AllPub</td>\n",
       "      <td>...</td>\n",
       "      <td>0</td>\n",
       "      <td>NaN</td>\n",
       "      <td>NaN</td>\n",
       "      <td>NaN</td>\n",
       "      <td>0</td>\n",
       "      <td>2</td>\n",
       "      <td>2006</td>\n",
       "      <td>WD</td>\n",
       "      <td>Abnorml</td>\n",
       "      <td>140000</td>\n",
       "    </tr>\n",
       "    <tr>\n",
       "      <th>4</th>\n",
       "      <td>5</td>\n",
       "      <td>60</td>\n",
       "      <td>RL</td>\n",
       "      <td>84.0</td>\n",
       "      <td>14260</td>\n",
       "      <td>Pave</td>\n",
       "      <td>NaN</td>\n",
       "      <td>IR1</td>\n",
       "      <td>Lvl</td>\n",
       "      <td>AllPub</td>\n",
       "      <td>...</td>\n",
       "      <td>0</td>\n",
       "      <td>NaN</td>\n",
       "      <td>NaN</td>\n",
       "      <td>NaN</td>\n",
       "      <td>0</td>\n",
       "      <td>12</td>\n",
       "      <td>2008</td>\n",
       "      <td>WD</td>\n",
       "      <td>Normal</td>\n",
       "      <td>250000</td>\n",
       "    </tr>\n",
       "  </tbody>\n",
       "</table>\n",
       "<p>5 rows × 81 columns</p>\n",
       "</div>"
      ],
      "text/plain": [
       "   Id  MSSubClass MSZoning  LotFrontage  LotArea Street Alley LotShape  \\\n",
       "0   1          60       RL         65.0     8450   Pave   NaN      Reg   \n",
       "1   2          20       RL         80.0     9600   Pave   NaN      Reg   \n",
       "2   3          60       RL         68.0    11250   Pave   NaN      IR1   \n",
       "3   4          70       RL         60.0     9550   Pave   NaN      IR1   \n",
       "4   5          60       RL         84.0    14260   Pave   NaN      IR1   \n",
       "\n",
       "  LandContour Utilities  ... PoolArea PoolQC Fence MiscFeature MiscVal MoSold  \\\n",
       "0         Lvl    AllPub  ...        0    NaN   NaN         NaN       0      2   \n",
       "1         Lvl    AllPub  ...        0    NaN   NaN         NaN       0      5   \n",
       "2         Lvl    AllPub  ...        0    NaN   NaN         NaN       0      9   \n",
       "3         Lvl    AllPub  ...        0    NaN   NaN         NaN       0      2   \n",
       "4         Lvl    AllPub  ...        0    NaN   NaN         NaN       0     12   \n",
       "\n",
       "  YrSold  SaleType  SaleCondition  SalePrice  \n",
       "0   2008        WD         Normal     208500  \n",
       "1   2007        WD         Normal     181500  \n",
       "2   2008        WD         Normal     223500  \n",
       "3   2006        WD        Abnorml     140000  \n",
       "4   2008        WD         Normal     250000  \n",
       "\n",
       "[5 rows x 81 columns]"
      ]
     },
     "execution_count": 198,
     "metadata": {},
     "output_type": "execute_result"
    }
   ],
   "source": [
    "df_train.head()"
   ]
  },
  {
   "cell_type": "markdown",
   "id": "0e14ad4c",
   "metadata": {},
   "source": [
    "## Data Wrangling"
   ]
  },
  {
   "cell_type": "markdown",
   "id": "1d351aa8",
   "metadata": {},
   "source": [
    "Id column is unnecessary since we have an index already. Let's remove it. "
   ]
  },
  {
   "cell_type": "code",
   "execution_count": 199,
   "id": "bda8dfba",
   "metadata": {},
   "outputs": [],
   "source": [
    "df_train.drop(labels=['Id'], axis=1, inplace=True)\n",
    "df_test.drop(labels=['Id'], axis=1, inplace=True)"
   ]
  },
  {
   "cell_type": "markdown",
   "id": "a62d0f8b",
   "metadata": {},
   "source": [
    "Let's separate features from the label column:"
   ]
  },
  {
   "cell_type": "code",
   "execution_count": 200,
   "id": "ff1f85d8",
   "metadata": {},
   "outputs": [],
   "source": [
    "X_train = df_train[df_train.columns.difference(['SalePrice'])]\n",
    "y_train = df_train['SalePrice']\n",
    "\n",
    "X_test = df_test.copy()"
   ]
  },
  {
   "cell_type": "markdown",
   "id": "1ab23aca",
   "metadata": {},
   "source": [
    "And count the number of features."
   ]
  },
  {
   "cell_type": "code",
   "execution_count": 201,
   "id": "aa6fe75a",
   "metadata": {},
   "outputs": [
    {
     "name": "stdout",
     "output_type": "stream",
     "text": [
      "The number of features in the dataset:  79\n"
     ]
    }
   ],
   "source": [
    "total_feature_num = len(X_train.columns)\n",
    "print(\"The number of features in the dataset: \", total_feature_num)"
   ]
  },
  {
   "cell_type": "markdown",
   "id": "f0731cd4",
   "metadata": {},
   "source": [
    "Determining the number of categorical and numerical features:"
   ]
  },
  {
   "cell_type": "code",
   "execution_count": 202,
   "id": "2ddba893",
   "metadata": {},
   "outputs": [
    {
     "name": "stdout",
     "output_type": "stream",
     "text": [
      "There are 43 categorical and 36 numerical features.\n"
     ]
    }
   ],
   "source": [
    "numeric_cols   = X_train._get_numeric_data().columns\n",
    "categoric_cols = X_train[X_train.columns.difference(numeric_cols)].columns\n",
    "assert len(numeric_cols) + len(categoric_cols) == total_feature_num\n",
    "print(f\"There are {len(categoric_cols)} categorical and {len(numeric_cols)} numerical features.\")"
   ]
  },
  {
   "cell_type": "markdown",
   "id": "44d5d9fd",
   "metadata": {},
   "source": [
    "### Missing values\n",
    "\n",
    "First and foremost, we check if the output variable (*SalePrice*) has missing values. If so, such entries should either be removed from the dataset or be considered to be appended to the test set. "
   ]
  },
  {
   "cell_type": "code",
   "execution_count": 203,
   "id": "44c7857c",
   "metadata": {},
   "outputs": [
    {
     "data": {
      "text/plain": [
       "0"
      ]
     },
     "execution_count": 203,
     "metadata": {},
     "output_type": "execute_result"
    }
   ],
   "source": [
    "y_train.isnull().sum()"
   ]
  },
  {
   "cell_type": "markdown",
   "id": "ca87dd25",
   "metadata": {},
   "source": [
    "No missing values are present in the output variable's column. Next step is to check the feature columns. For that, let's create an ordered series showing the percentage of missing values for each of the features in descending order to have a clear view on the extent of the problem with missing data:"
   ]
  },
  {
   "cell_type": "code",
   "execution_count": 204,
   "id": "3f9c0874",
   "metadata": {},
   "outputs": [
    {
     "data": {
      "text/html": [
       "<div>\n",
       "<style scoped>\n",
       "    .dataframe tbody tr th:only-of-type {\n",
       "        vertical-align: middle;\n",
       "    }\n",
       "\n",
       "    .dataframe tbody tr th {\n",
       "        vertical-align: top;\n",
       "    }\n",
       "\n",
       "    .dataframe thead th {\n",
       "        text-align: right;\n",
       "    }\n",
       "</style>\n",
       "<table border=\"1\" class=\"dataframe\">\n",
       "  <thead>\n",
       "    <tr style=\"text-align: right;\">\n",
       "      <th></th>\n",
       "      <th>missing_pct</th>\n",
       "      <th>categorical_or_numerical</th>\n",
       "    </tr>\n",
       "  </thead>\n",
       "  <tbody>\n",
       "    <tr>\n",
       "      <th>PoolQC</th>\n",
       "      <td>99.520548</td>\n",
       "      <td>cat</td>\n",
       "    </tr>\n",
       "    <tr>\n",
       "      <th>MiscFeature</th>\n",
       "      <td>96.301370</td>\n",
       "      <td>cat</td>\n",
       "    </tr>\n",
       "    <tr>\n",
       "      <th>Alley</th>\n",
       "      <td>93.767123</td>\n",
       "      <td>cat</td>\n",
       "    </tr>\n",
       "    <tr>\n",
       "      <th>Fence</th>\n",
       "      <td>80.753425</td>\n",
       "      <td>cat</td>\n",
       "    </tr>\n",
       "    <tr>\n",
       "      <th>FireplaceQu</th>\n",
       "      <td>47.260274</td>\n",
       "      <td>cat</td>\n",
       "    </tr>\n",
       "    <tr>\n",
       "      <th>LotFrontage</th>\n",
       "      <td>17.739726</td>\n",
       "      <td>num</td>\n",
       "    </tr>\n",
       "    <tr>\n",
       "      <th>GarageFinish</th>\n",
       "      <td>5.547945</td>\n",
       "      <td>cat</td>\n",
       "    </tr>\n",
       "    <tr>\n",
       "      <th>GarageCond</th>\n",
       "      <td>5.547945</td>\n",
       "      <td>cat</td>\n",
       "    </tr>\n",
       "    <tr>\n",
       "      <th>GarageQual</th>\n",
       "      <td>5.547945</td>\n",
       "      <td>cat</td>\n",
       "    </tr>\n",
       "    <tr>\n",
       "      <th>GarageYrBlt</th>\n",
       "      <td>5.547945</td>\n",
       "      <td>num</td>\n",
       "    </tr>\n",
       "    <tr>\n",
       "      <th>GarageType</th>\n",
       "      <td>5.547945</td>\n",
       "      <td>cat</td>\n",
       "    </tr>\n",
       "    <tr>\n",
       "      <th>BsmtExposure</th>\n",
       "      <td>2.602740</td>\n",
       "      <td>cat</td>\n",
       "    </tr>\n",
       "    <tr>\n",
       "      <th>BsmtFinType2</th>\n",
       "      <td>2.602740</td>\n",
       "      <td>cat</td>\n",
       "    </tr>\n",
       "    <tr>\n",
       "      <th>BsmtCond</th>\n",
       "      <td>2.534247</td>\n",
       "      <td>cat</td>\n",
       "    </tr>\n",
       "    <tr>\n",
       "      <th>BsmtFinType1</th>\n",
       "      <td>2.534247</td>\n",
       "      <td>cat</td>\n",
       "    </tr>\n",
       "    <tr>\n",
       "      <th>BsmtQual</th>\n",
       "      <td>2.534247</td>\n",
       "      <td>cat</td>\n",
       "    </tr>\n",
       "    <tr>\n",
       "      <th>MasVnrArea</th>\n",
       "      <td>0.547945</td>\n",
       "      <td>num</td>\n",
       "    </tr>\n",
       "    <tr>\n",
       "      <th>MasVnrType</th>\n",
       "      <td>0.547945</td>\n",
       "      <td>cat</td>\n",
       "    </tr>\n",
       "    <tr>\n",
       "      <th>Electrical</th>\n",
       "      <td>0.068493</td>\n",
       "      <td>cat</td>\n",
       "    </tr>\n",
       "  </tbody>\n",
       "</table>\n",
       "</div>"
      ],
      "text/plain": [
       "              missing_pct categorical_or_numerical\n",
       "PoolQC          99.520548                      cat\n",
       "MiscFeature     96.301370                      cat\n",
       "Alley           93.767123                      cat\n",
       "Fence           80.753425                      cat\n",
       "FireplaceQu     47.260274                      cat\n",
       "LotFrontage     17.739726                      num\n",
       "GarageFinish     5.547945                      cat\n",
       "GarageCond       5.547945                      cat\n",
       "GarageQual       5.547945                      cat\n",
       "GarageYrBlt      5.547945                      num\n",
       "GarageType       5.547945                      cat\n",
       "BsmtExposure     2.602740                      cat\n",
       "BsmtFinType2     2.602740                      cat\n",
       "BsmtCond         2.534247                      cat\n",
       "BsmtFinType1     2.534247                      cat\n",
       "BsmtQual         2.534247                      cat\n",
       "MasVnrArea       0.547945                      num\n",
       "MasVnrType       0.547945                      cat\n",
       "Electrical       0.068493                      cat"
      ]
     },
     "execution_count": 204,
     "metadata": {},
     "output_type": "execute_result"
    }
   ],
   "source": [
    "sorted_missing_pct = (X_train.isnull().sum() / X_train.shape[0] * 100).sort_values(ascending=False)\n",
    "sorted_missing_pct.name = 'missing_pct'\n",
    "categorical_or_numerical = pd.Series(['cat' if var in categoric_cols else 'num' for var in sorted_missing_pct.index],\n",
    "         index = sorted_missing_pct.index,\n",
    "         name = 'categorical_or_numerical')\n",
    "\n",
    "feature_info = pd.concat([sorted_missing_pct, categorical_or_numerical], axis=1)\n",
    "feature_info[feature_info['missing_pct'] != 0.0]"
   ]
  },
  {
   "cell_type": "markdown",
   "id": "49bbda4c",
   "metadata": {},
   "source": [
    "19 features out of 80 have missing values and 4 out of them have more than 80% of the data missing! We now also know that out of these 19 features, only 3 are numerical, the rest are categorical features. There are multiple possible options on how to deal with such columns:\n",
    " * dropping columns which have more missing values than an input threshold (e.g. 25%),\n",
    " * imputing data with mean/median (for continuous variables) or most common category (for categorical variables),\n",
    " * alternatively, approximating the categorical distribution and generating values randomly to impute missing data,\n",
    " * finally, if there is sufficient evidence for the missing data to have an extra meaning, they can be treated as a separate value (e.g. 0, for continuous variables) or as a separate category (e.g. 'does not exist', 'not applicable' category).\n",
    " \n",
    "While there are several possible approaches we could take, let's first notice that certain variables have exactly the same percentage of missing values, implying that they are most probably related: \n",
    " * all Garage variables have the same percentage of missing values, i.e. we can logically assume that for 5.55% of records there was no garage present\n",
    " * same logic as before for Vnr variables (veneer): MasVnrArea, MasVnrType\n",
    " * there is a slight irregularity regarding the basement variables (Bsmt): BsmtExposure and BsmtFinType2 have marginally more missing values than the rest - we'll need to investigate this in a bit. \n",
    " * for the rest, it is safe to assume that a missing value means the given feature did not exist for the household, i.e. no pool (PoolQC), no other miscellaneous feature (MiscFeature), no alley (Alley), no fence (Fence), no fireplace (FireplaceQu), no lot frontage i.e. household doesn't have a direct frontage on the street (LotFrontage), and no electricity (Electrical), this latter being extremely small percentage, a mere 0.07%, as expected. \n",
    " \n",
    "Therefore we can surely treat almost all missing variables as meaningful information, we only need to examine the above mentioned irregularity with the basement (Bsmt) features."
   ]
  },
  {
   "cell_type": "code",
   "execution_count": 205,
   "id": "e2bfdd4b",
   "metadata": {},
   "outputs": [
    {
     "data": {
      "text/html": [
       "<div>\n",
       "<style scoped>\n",
       "    .dataframe tbody tr th:only-of-type {\n",
       "        vertical-align: middle;\n",
       "    }\n",
       "\n",
       "    .dataframe tbody tr th {\n",
       "        vertical-align: top;\n",
       "    }\n",
       "\n",
       "    .dataframe thead th {\n",
       "        text-align: right;\n",
       "    }\n",
       "</style>\n",
       "<table border=\"1\" class=\"dataframe\">\n",
       "  <thead>\n",
       "    <tr style=\"text-align: right;\">\n",
       "      <th></th>\n",
       "      <th>BsmtCond</th>\n",
       "      <th>BsmtExposure</th>\n",
       "      <th>BsmtFinSF1</th>\n",
       "      <th>BsmtFinSF2</th>\n",
       "      <th>BsmtFinType1</th>\n",
       "      <th>BsmtFinType2</th>\n",
       "      <th>BsmtFullBath</th>\n",
       "      <th>BsmtHalfBath</th>\n",
       "      <th>BsmtQual</th>\n",
       "      <th>BsmtUnfSF</th>\n",
       "      <th>TotalBsmtSF</th>\n",
       "    </tr>\n",
       "  </thead>\n",
       "  <tbody>\n",
       "    <tr>\n",
       "      <th>332</th>\n",
       "      <td>TA</td>\n",
       "      <td>No</td>\n",
       "      <td>1124</td>\n",
       "      <td>479</td>\n",
       "      <td>GLQ</td>\n",
       "      <td>NaN</td>\n",
       "      <td>1</td>\n",
       "      <td>0</td>\n",
       "      <td>Gd</td>\n",
       "      <td>1603</td>\n",
       "      <td>3206</td>\n",
       "    </tr>\n",
       "    <tr>\n",
       "      <th>948</th>\n",
       "      <td>TA</td>\n",
       "      <td>NaN</td>\n",
       "      <td>0</td>\n",
       "      <td>0</td>\n",
       "      <td>Unf</td>\n",
       "      <td>Unf</td>\n",
       "      <td>0</td>\n",
       "      <td>0</td>\n",
       "      <td>Gd</td>\n",
       "      <td>936</td>\n",
       "      <td>936</td>\n",
       "    </tr>\n",
       "  </tbody>\n",
       "</table>\n",
       "</div>"
      ],
      "text/plain": [
       "    BsmtCond BsmtExposure  BsmtFinSF1  BsmtFinSF2 BsmtFinType1 BsmtFinType2  \\\n",
       "332       TA           No        1124         479          GLQ          NaN   \n",
       "948       TA          NaN           0           0          Unf          Unf   \n",
       "\n",
       "     BsmtFullBath  BsmtHalfBath BsmtQual  BsmtUnfSF  TotalBsmtSF  \n",
       "332             1             0       Gd       1603         3206  \n",
       "948             0             0       Gd        936          936  "
      ]
     },
     "execution_count": 205,
     "metadata": {},
     "output_type": "execute_result"
    }
   ],
   "source": [
    "bsmt_examine = X_train[(X_train['BsmtExposure'].isnull() | X_train['BsmtFinType2'].isnull()) & (~X_train['BsmtCond'].isnull() | ~X_train['BsmtFinType1'].isnull() | ~X_train['BsmtQual'].isnull())]\n",
    "bsmt_examine[[col for col in bsmt_examine.columns if 'Bsmt' in col]]"
   ]
  },
  {
   "cell_type": "code",
   "execution_count": 206,
   "id": "fa21313e",
   "metadata": {},
   "outputs": [],
   "source": [
    "#X_train[(X_train['BsmtFinSF1']==0) & (X_train['BsmtFinType1']!='Unf')][['BsmtFinSF1', 'BsmtFinType1']]\n",
    "#X_train[(X_train['BsmtFinSF2']==0) & (X_train['BsmtFinType2']!='Unf')][['BsmtFinSF2', 'BsmtFinType2']]"
   ]
  },
  {
   "cell_type": "markdown",
   "id": "aae78844",
   "metadata": {},
   "source": [
    "Luckily, there are only two records that seem suspicious, i.e. where either *BsmtExposure* or *BsmtFinType2* is missing while any of the other basement features having valid data. According to the subject experts, a missing data in either of the basement columns means \"no basement.\" In the above two records, however, there is a contradiction: for record #332, *BsmtFinType2* suggests \"no basement\" while there is clearly a basement since all other parameters imply an existing basement, and similarly, for record #948, *BsmtExposure* suggests \"no basement\" while all other parameters imply an existing basement. The easy way would be to just drop these two records, as they represent less than 0.2% of our total training set (2 out of 1460 records). However, how would we handle the problem if much more records were affected?\n",
    "\n",
    "#### Analyzing Record #332\n",
    "*BsmtFinType2* is a missing value, while it is absolutely certain that the basement exists. We furthermore know from *BsmtFinType1* and *BsmtFinSF1* that 1124 sq. feet of the basement has been finished and its rating is GLQ (good living quarters). From *BsmtFinSF2* we know that an additional 479 sq. feet was also recorded separately from the *BsmtUnfSF* (Basement unfinished square feet), implying that *BsmtFinType2* is definitely not 'Unf' (unfinished). Other potential values for the *BsmtFinType2* feature are BLQ, ALQ, Rec, LwQ, and GLQ. Let's check the frequency of each among those records where *BsmtFinType2* is neither 'Unf' (unfinished) nor missing:"
   ]
  },
  {
   "cell_type": "code",
   "execution_count": 207,
   "id": "393ce41b",
   "metadata": {},
   "outputs": [
    {
     "data": {
      "text/plain": [
       "Rec    54\n",
       "LwQ    46\n",
       "BLQ    33\n",
       "ALQ    19\n",
       "GLQ    14\n",
       "Name: BsmtFinType2, dtype: int64"
      ]
     },
     "execution_count": 207,
     "metadata": {},
     "output_type": "execute_result"
    }
   ],
   "source": [
    "X_train[(X_train['BsmtFinType2']!='Unf') & (~X_train['BsmtFinType2'].isnull())]['BsmtFinType2'].value_counts()"
   ]
  },
  {
   "cell_type": "markdown",
   "id": "5d798264",
   "metadata": {},
   "source": [
    "The variation is quite large and it's not possible to impute the missing value by taking the most common category, since the most common category (Rec) covers less than one third of the records (32.5%). In this case, imputation is not possible and hence, we have no other option than to drop the record. "
   ]
  },
  {
   "cell_type": "code",
   "execution_count": 208,
   "id": "99ff4119",
   "metadata": {},
   "outputs": [],
   "source": [
    "X_train = X_train.drop(labels=[332])"
   ]
  },
  {
   "cell_type": "markdown",
   "id": "024300c4",
   "metadata": {},
   "source": [
    "#### Analyzing Record #948\n",
    "Record #948 is less complicated. We can see that the total basement area is entirely unfinished yet, and this fact is well confirmed by *BsmtFinSF1*, *BsmtFinSF2*, *BsmtFinType1*, *BsmtFinType2* features. The missing *BsmtExposure* value thus clearly cannot mean \"no basement\" but rather \"no basement exposure\" where exposure refers to basement walkout towards the garden. But before imputing the value, let's see the value counts of the feature:"
   ]
  },
  {
   "cell_type": "code",
   "execution_count": 211,
   "id": "ec4c8be9",
   "metadata": {},
   "outputs": [
    {
     "data": {
      "text/plain": [
       "No    952\n",
       "Av    221\n",
       "Gd    134\n",
       "Mn    114\n",
       "Name: BsmtExposure, dtype: int64"
      ]
     },
     "execution_count": 211,
     "metadata": {},
     "output_type": "execute_result"
    }
   ],
   "source": [
    "X_train['BsmtExposure'].value_counts()"
   ]
  },
  {
   "cell_type": "markdown",
   "id": "fecafcce",
   "metadata": {},
   "source": [
    "Albeit not entirely certain, we can reasonably argue to impute record #948 with the most frequent category, the category that would logically make sense too: that there is \"no basement exposure.\" Let's do so:"
   ]
  },
  {
   "cell_type": "code",
   "execution_count": 212,
   "id": "212b7b0a",
   "metadata": {},
   "outputs": [],
   "source": [
    "X_train.loc[948, 'BsmtExposure'] = 'No'"
   ]
  },
  {
   "cell_type": "markdown",
   "id": "cc568936",
   "metadata": {},
   "source": [
    "We have successfully finished the handling of missing values. The rest of the missing values are meaningful as confirmed by subject experts and hence will later be used as separate categories or values. "
   ]
  },
  {
   "cell_type": "code",
   "execution_count": null,
   "id": "f2e222e6",
   "metadata": {},
   "outputs": [],
   "source": []
  },
  {
   "cell_type": "code",
   "execution_count": null,
   "id": "049c036d",
   "metadata": {},
   "outputs": [],
   "source": []
  },
  {
   "cell_type": "code",
   "execution_count": null,
   "id": "90af3307",
   "metadata": {},
   "outputs": [],
   "source": []
  },
  {
   "cell_type": "code",
   "execution_count": null,
   "id": "48483776",
   "metadata": {},
   "outputs": [],
   "source": []
  }
 ],
 "metadata": {
  "kernelspec": {
   "display_name": "Python 3",
   "language": "python",
   "name": "python3"
  },
  "language_info": {
   "codemirror_mode": {
    "name": "ipython",
    "version": 3
   },
   "file_extension": ".py",
   "mimetype": "text/x-python",
   "name": "python",
   "nbconvert_exporter": "python",
   "pygments_lexer": "ipython3",
   "version": "3.7.0"
  }
 },
 "nbformat": 4,
 "nbformat_minor": 5
}
